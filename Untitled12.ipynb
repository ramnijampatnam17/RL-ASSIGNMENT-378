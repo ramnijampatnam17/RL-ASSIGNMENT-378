{
  "nbformat": 4,
  "nbformat_minor": 0,
  "metadata": {
    "colab": {
      "provenance": []
    },
    "kernelspec": {
      "name": "python3",
      "display_name": "Python 3"
    },
    "language_info": {
      "name": "python"
    }
  },
  "cells": [
    {
      "cell_type": "code",
      "execution_count": null,
      "metadata": {
        "id": "PGtv6CRcBdZB"
      },
      "outputs": [],
      "source": [
        "import spacy\n",
        "nlp=spacy.load('en_core_web_sm')"
      ]
    },
    {
      "cell_type": "code",
      "source": [
        "s=\"This is a test sentence to check the spacy functionilty.\""
      ],
      "metadata": {
        "id": "siI2WHJEBvyc"
      },
      "execution_count": null,
      "outputs": []
    },
    {
      "cell_type": "code",
      "source": [
        "  type(s)"
      ],
      "metadata": {
        "colab": {
          "base_uri": "https://localhost:8080/"
        },
        "id": "iQ2QRo6NB9K3",
        "outputId": "9c831a51-6c7d-4c64-ca91-ef7431054877"
      },
      "execution_count": null,
      "outputs": [
        {
          "output_type": "execute_result",
          "data": {
            "text/plain": [
              "str"
            ]
          },
          "metadata": {},
          "execution_count": 3
        }
      ]
    },
    {
      "cell_type": "code",
      "source": [
        "s=nlp('This is test sentence')\n",
        "type(s)"
      ],
      "metadata": {
        "colab": {
          "base_uri": "https://localhost:8080/"
        },
        "id": "5zjV8QEKC0j1",
        "outputId": "339cc6c4-25f5-49b9-9c04-99b18ae55eec"
      },
      "execution_count": null,
      "outputs": [
        {
          "output_type": "execute_result",
          "data": {
            "text/plain": [
              "spacy.tokens.doc.Doc"
            ]
          },
          "metadata": {},
          "execution_count": 4
        }
      ]
    },
    {
      "cell_type": "code",
      "source": [
        "s='this is U.S country .Welcome.here.i did my btech from here'\n",
        "s.split('.')\n"
      ],
      "metadata": {
        "colab": {
          "base_uri": "https://localhost:8080/"
        },
        "id": "kRJEv8n4DALh",
        "outputId": "30aff36d-d153-4fbb-9352-5dd5d3356a04"
      },
      "execution_count": null,
      "outputs": [
        {
          "output_type": "execute_result",
          "data": {
            "text/plain": [
              "['this is U', 'S country ', 'Welcome', 'here', 'i did my btech from here']"
            ]
          },
          "metadata": {},
          "execution_count": 10
        }
      ]
    },
    {
      "cell_type": "code",
      "source": [
        "s=nlp('this is U.S country.Welcome.here.I did my b.tech from here')\n",
        "for sentence in s.sents:\n",
        "    print(sentence)"
      ],
      "metadata": {
        "colab": {
          "base_uri": "https://localhost:8080/"
        },
        "id": "jtUpWcXpD_zk",
        "outputId": "0a47c859-0089-4683-ab38-bbadea69d6ea"
      },
      "execution_count": null,
      "outputs": [
        {
          "output_type": "stream",
          "name": "stdout",
          "text": [
            "this is U.S country.\n",
            "Welcome.here.\n",
            "I did my b.tech from here\n"
          ]
        }
      ]
    },
    {
      "cell_type": "code",
      "source": [
        "s"
      ],
      "metadata": {
        "colab": {
          "base_uri": "https://localhost:8080/"
        },
        "id": "q0HmzzNWEMmC",
        "outputId": "f80d1f15-434d-4ad3-8fbb-060169318042"
      },
      "execution_count": null,
      "outputs": [
        {
          "output_type": "execute_result",
          "data": {
            "text/plain": [
              "this is U.S country.Welcome.here.I did my b.tech from here"
            ]
          },
          "metadata": {},
          "execution_count": 13
        }
      ]
    },
    {
      "cell_type": "code",
      "source": [
        "for word in s:\n",
        "    print(word)"
      ],
      "metadata": {
        "colab": {
          "base_uri": "https://localhost:8080/"
        },
        "id": "u6uB66YYFDBN",
        "outputId": "5dd4dd17-839b-43e7-ad1d-8b07d3d4be64"
      },
      "execution_count": null,
      "outputs": [
        {
          "output_type": "stream",
          "name": "stdout",
          "text": [
            "this\n",
            "is\n",
            "U.S\n",
            "country\n",
            ".\n",
            "Welcome.here\n",
            ".\n",
            "I\n",
            "did\n",
            "my\n",
            "b.tech\n",
            "from\n",
            "here\n"
          ]
        }
      ]
    },
    {
      "cell_type": "code",
      "source": [
        "s=nlp(\"The boy is running while talking on the phone while calling friends\")\n"
      ],
      "metadata": {
        "id": "tfeMLLWSFjOs"
      },
      "execution_count": null,
      "outputs": []
    },
    {
      "cell_type": "code",
      "source": [
        "for word in s:\n",
        "  print(f'{word}-{word.lemma_}')"
      ],
      "metadata": {
        "colab": {
          "base_uri": "https://localhost:8080/"
        },
        "id": "Pwk2Ge6xGY8j",
        "outputId": "f7abf9bb-2c2c-4c1d-8bc9-fdefdc39296a"
      },
      "execution_count": null,
      "outputs": [
        {
          "output_type": "stream",
          "name": "stdout",
          "text": [
            "The-the\n",
            "boy-boy\n",
            "is-be\n",
            "running-run\n",
            "while-while\n",
            "talking-talk\n",
            "on-on\n",
            "the-the\n",
            "phone-phone\n",
            "while-while\n",
            "calling-call\n",
            "friends-friend\n"
          ]
        }
      ]
    },
    {
      "cell_type": "code",
      "source": [
        "text=nlp(\"When Sebastian thrun stated working on self-driving cars at Google\")"
      ],
      "metadata": {
        "id": "O-B2EfK2HiMT"
      },
      "execution_count": null,
      "outputs": []
    },
    {
      "cell_type": "code",
      "source": [
        "for word in text.ents:\n",
        "  print(word)"
      ],
      "metadata": {
        "colab": {
          "base_uri": "https://localhost:8080/"
        },
        "id": "B7XxzW5NGxO-",
        "outputId": "1e4eda88-dcf5-4440-e1ce-9320a4af289c"
      },
      "execution_count": null,
      "outputs": [
        {
          "output_type": "stream",
          "name": "stdout",
          "text": [
            "Sebastian\n",
            "Google\n"
          ]
        }
      ]
    },
    {
      "cell_type": "code",
      "source": [
        "from spacy import displacy\n",
        "\n",
        "displacy.serve(text,style='ent')"
      ],
      "metadata": {
        "colab": {
          "base_uri": "https://localhost:8080/",
          "height": 304
        },
        "id": "knXhRSdEIlnq",
        "outputId": "dbb0ff69-15e7-4f66-a8c2-d401505145a5"
      },
      "execution_count": null,
      "outputs": [
        {
          "output_type": "stream",
          "name": "stderr",
          "text": [
            "/usr/local/lib/python3.11/dist-packages/spacy/displacy/__init__.py:106: UserWarning: [W011] It looks like you're calling displacy.serve from within a Jupyter notebook or a similar environment. This likely means you're already running a local web server, so there's no need to make displaCy start another one. Instead, you should be able to replace displacy.serve with displacy.render to show the visualization.\n",
            "  warnings.warn(Warnings.W011)\n"
          ]
        },
        {
          "output_type": "display_data",
          "data": {
            "text/plain": [
              "<IPython.core.display.HTML object>"
            ],
            "text/html": [
              "<span class=\"tex2jax_ignore\"><!DOCTYPE html>\n",
              "<html lang=\"en\">\n",
              "    <head>\n",
              "        <title>displaCy</title>\n",
              "    </head>\n",
              "\n",
              "    <body style=\"font-size: 16px; font-family: -apple-system, BlinkMacSystemFont, 'Segoe UI', Helvetica, Arial, sans-serif, 'Apple Color Emoji', 'Segoe UI Emoji', 'Segoe UI Symbol'; padding: 4rem 2rem; direction: ltr\">\n",
              "<figure style=\"margin-bottom: 6rem\">\n",
              "<div class=\"entities\" style=\"line-height: 2.5; direction: ltr\">When \n",
              "<mark class=\"entity\" style=\"background: #c887fb; padding: 0.45em 0.6em; margin: 0 0.25em; line-height: 1; border-radius: 0.35em;\">\n",
              "    Sebastian\n",
              "    <span style=\"font-size: 0.8em; font-weight: bold; line-height: 1; border-radius: 0.35em; vertical-align: middle; margin-left: 0.5rem\">NORP</span>\n",
              "</mark>\n",
              " thrun stated working on self-driving cars at \n",
              "<mark class=\"entity\" style=\"background: #7aecec; padding: 0.45em 0.6em; margin: 0 0.25em; line-height: 1; border-radius: 0.35em;\">\n",
              "    Google\n",
              "    <span style=\"font-size: 0.8em; font-weight: bold; line-height: 1; border-radius: 0.35em; vertical-align: middle; margin-left: 0.5rem\">ORG</span>\n",
              "</mark>\n",
              "</div>\n",
              "</figure>\n",
              "</body>\n",
              "</html></span>"
            ]
          },
          "metadata": {}
        },
        {
          "output_type": "stream",
          "name": "stdout",
          "text": [
            "\n",
            "Using the 'ent' visualizer\n",
            "Serving on http://0.0.0.0:5000 ...\n",
            "\n",
            "Shutting down server on port 5000.\n"
          ]
        }
      ]
    },
    {
      "cell_type": "markdown",
      "source": [
        "ASSIGNMENT -Day13"
      ],
      "metadata": {
        "id": "QR_FTK9KKe93"
      }
    },
    {
      "cell_type": "code",
      "source": [
        "import spacy\n",
        "\n",
        "# Step 2: Load the pre-trained SpaCy model\n",
        "nlp = spacy.load('en_core_web_sm')\n",
        "\n",
        "# Step 3: Process the sentence\n",
        "sentence = \"NLP is amazing and fun to learn.\"\n",
        "doc = nlp(sentence)\n",
        "\n",
        "# Step 4: Display the words and their part-of-speech tags\n",
        "for token in doc:\n",
        "    print(f'{token.text}: {token.pos_}')"
      ],
      "metadata": {
        "id": "AFhz-pX6JKuW"
      },
      "execution_count": null,
      "outputs": []
    }
  ]
}